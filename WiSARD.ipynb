{
 "cells": [
  {
   "cell_type": "markdown",
   "metadata": {},
   "source": [
    "# Fundamentos da WiSARD\n",
    "\n",
    "Projeto de graduação para a disciplina de Redes Neurais sem Peso."
   ]
  },
  {
   "cell_type": "markdown",
   "metadata": {},
   "source": [
    "## Conceitos Básicos\n",
    "\n",
    "- Retina : é o nosso material de input, que é uma matriz, de valores binários. Podemos entender a retina como uma imagem, onde cada pixel pode ser preto ou branco.\n",
    "\n",
    "- Tupla  : um array de tamanho fixo que em cada uma de suas posições possuíra o mesmo valor que um dos pixels da retina. \n",
    "\n",
    "- Mapeamento : a retina será partida em M tuplas, onde cada tupla possuirá N pixels representados. Chamamos de mapeamento a associação de um pixel da retina com uma posição em uma das tuplas. Em geral, a WiSARD realiza o mapeamento de forma pseudo-aleatória.\n",
    "\n",
    "- RAM : cada tupla endereçará 2^N posições. O conjunto dessas posições representa a RAM daquela tupla\n",
    "\n",
    "- Treinamento : treinar a rede significa receber uma retina, encaminhar o valor dos pixels para suas respectivas tuplas e então, pegar cada uma das tuplas com seus valores binários setados, e setar a respectiva posição na RAM. Por exemplo, imagine uma tupla de valor [1, 1, 0], logo, setaremos a posição 6 na RAM.\n",
    "\n",
    "- Discriminador : é um conjunto de RAMs treinadas que visa ser capaz de pontuar a semelhança de uma retina com o seu padrão."
   ]
  },
  {
   "cell_type": "code",
   "execution_count": 4,
   "metadata": {},
   "outputs": [],
   "source": [
    "import WiSARD as Wi"
   ]
  },
  {
   "cell_type": "code",
   "execution_count": 13,
   "metadata": {},
   "outputs": [
    {
     "data": {
      "text/plain": [
       "[[(0, 2), (3, 3)],\n",
       " [(1, 1), (1, 3)],\n",
       " [(3, 2), (2, 3)],\n",
       " [(1, 0), (0, 0)],\n",
       " [(2, 0), (2, 1)],\n",
       " [(0, 3), (1, 2)],\n",
       " [(3, 0), (0, 1)],\n",
       " [(2, 2), (3, 1)]]"
      ]
     },
     "execution_count": 13,
     "metadata": {},
     "output_type": "execute_result"
    }
   ],
   "source": [
    "test = Wi.WiSARD(4, 4, 2)\n",
    "test.random_mapping()\n",
    "test.mapping"
   ]
  },
  {
   "cell_type": "code",
   "execution_count": 14,
   "metadata": {
    "collapsed": true
   },
   "outputs": [],
   "source": [
    "retinas = [\n",
    "    [[0, 0, 0, 1],\n",
    "     [0, 0, 0, 1],\n",
    "     [0, 0, 0, 1],\n",
    "     [0, 0, 0, 1]],\n",
    "\n",
    "    [[0, 0, 0, 1],\n",
    "     [0, 0, 0, 1],\n",
    "     [0, 0, 0, 1],\n",
    "     [0, 0, 0, 1]],\n",
    "\n",
    "    [[0, 0, 0, 1],\n",
    "     [0, 0, 0, 1],\n",
    "     [0, 0, 0, 1],\n",
    "     [0, 0, 0, 1]]\n",
    "\n",
    "]\n",
    "\n",
    "test.fit_class(\"i\", retinas)\n",
    "\n",
    "retinas = [\n",
    "    [[0, 1, 0, 1],\n",
    "     [0, 1, 1, 1],\n",
    "     [0, 1, 0, 1],\n",
    "     [0, 1, 0, 1]],\n",
    "\n",
    "    [[1, 0, 1, 0],\n",
    "     [1, 0, 1, 0],\n",
    "     [1, 1, 1, 0],\n",
    "     [1, 0, 1, 0]],\n",
    "\n",
    "    [[1, 0, 1, 0],\n",
    "     [1, 1, 1, 0],\n",
    "     [1, 0, 1, 0],\n",
    "     [1, 0, 1, 0]]\n",
    "\n",
    "]\n",
    "\n",
    "test.fit_class(\"H\", retinas)\n",
    "\n"
   ]
  },
  {
   "cell_type": "code",
   "execution_count": 15,
   "metadata": {},
   "outputs": [
    {
     "data": {
      "text/plain": [
       "('i', 0.625)"
      ]
     },
     "execution_count": 15,
     "metadata": {},
     "output_type": "execute_result"
    }
   ],
   "source": [
    "test.classify(\n",
    "   [[0, 0, 0, 1],\n",
    "    [0, 0, 0, 1],\n",
    "    [0, 0, 0, 1],\n",
    "    [0, 0, 0, 1]]\n",
    ")\n"
   ]
  }
 ],
 "metadata": {
  "anaconda-cloud": {},
  "kernelspec": {
   "display_name": "Python [conda env:PDSH]",
   "language": "python",
   "name": "conda-env-PDSH-py"
  },
  "language_info": {
   "codemirror_mode": {
    "name": "ipython",
    "version": 3
   },
   "file_extension": ".py",
   "mimetype": "text/x-python",
   "name": "python",
   "nbconvert_exporter": "python",
   "pygments_lexer": "ipython3",
   "version": "3.5.4"
  }
 },
 "nbformat": 4,
 "nbformat_minor": 1
}
