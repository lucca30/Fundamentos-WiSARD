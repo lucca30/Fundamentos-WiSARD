{
 "cells": [
  {
   "cell_type": "markdown",
   "metadata": {},
   "source": [
    "# Fundamentos da WiSARD\n",
    "\n",
    "Projeto de graduação para a disciplina de Redes Neurais sem Peso."
   ]
  },
  {
   "cell_type": "markdown",
   "metadata": {},
   "source": [
    "## Conceitos Básicos\n",
    "\n",
    "- Retina : é o nosso material de input, que é uma matriz, de valores binários. Podemos entender a retina como uma imagem, onde cada pixel pode ser preto ou branco.\n",
    "\n",
    "- Tupla  : um array de tamanho fixo que em cada uma de suas posições possuíra o mesmo valor que um dos pixels da retina. \n",
    "\n",
    "- Mapeamento : a retina será partida em M tuplas, onde cada tupla possuirá N pixels representados. Chamamos de mapeamento a associação de um pixel da retina com uma posição em uma das tuplas. Em geral, a WiSARD realiza o mapeamento de forma pseudo-aleatória.\n",
    "\n",
    "- RAM : cada tupla endereçará 2^N posições. O conjunto dessas posições representa a RAM daquela tupla\n",
    "\n",
    "- Treinamento : treinar a rede significa receber uma retina, encaminhar o valor dos pixels para suas respectivas tuplas e então, pegar cada uma das tuplas com seus valores binários setados, e setar a respectiva posição na RAM. Por exemplo, imagine uma tupla de valor [1, 1, 0], logo, setaremos a posição 6 na RAM.\n",
    "\n",
    "- Discriminador : é um conjunto de RAMs treinadas que visa ser capaz de pontuar a semelhança de uma retina com o seu padrão."
   ]
  },
  {
   "cell_type": "code",
   "execution_count": 5,
   "metadata": {},
   "outputs": [],
   "source": [
    "import random\n",
    "class WiSARD:\n",
    "    tuples = []\n",
    "    mapping = []\n",
    "    def __init__(self, retina_x, retina_y, tuple_size):\n",
    "        self.retina_x = retina_x\n",
    "        self.retina_y = retina_y\n",
    "        self.tuple_size = tuple_size\n",
    "        if( (retina_x*retina_y)%tuple_size !=0 ):\n",
    "            print(\"Invalid tuple size\")\n",
    "        self.M = (retina_x*retina_y)//tuple_size\n",
    "        \n",
    "    def random_map(self):\n",
    "        self.mapping = []\n",
    "        temp = []\n",
    "        for i in range(0, self.retina_x):\n",
    "            for j in range(0, self.retina_y):\n",
    "                temp.append((i, j))\n",
    "                \n",
    "        for i in range(0, self.M):\n",
    "            temp_array = []\n",
    "            for j in range(0, self.tuple_size):\n",
    "                element = random.choice(temp)\n",
    "                temp.remove(element)\n",
    "                temp_array.append(element)\n",
    "            self.mapping.append(temp_array)"
   ]
  },
  {
   "cell_type": "code",
   "execution_count": 8,
   "metadata": {},
   "outputs": [
    {
     "data": {
      "text/plain": [
       "[[(6, 4), (11, 1), (12, 1), (14, 2)],\n",
       " [(8, 4), (10, 1), (8, 6), (4, 9)],\n",
       " [(13, 12), (7, 14), (11, 7), (10, 7)],\n",
       " [(10, 4), (9, 5), (8, 8), (2, 3)],\n",
       " [(3, 13), (8, 9), (8, 10), (7, 11)],\n",
       " [(14, 1), (15, 0), (5, 12), (0, 0)],\n",
       " [(11, 15), (8, 13), (14, 5), (15, 12)],\n",
       " [(6, 13), (0, 13), (9, 4), (1, 0)],\n",
       " [(15, 8), (7, 9), (3, 12), (2, 11)],\n",
       " [(13, 0), (13, 5), (0, 4), (4, 3)],\n",
       " [(1, 8), (4, 4), (5, 3), (1, 3)],\n",
       " [(15, 10), (0, 14), (5, 7), (14, 7)],\n",
       " [(14, 0), (13, 9), (5, 6), (10, 5)],\n",
       " [(6, 8), (15, 14), (11, 2), (14, 4)],\n",
       " [(5, 2), (14, 15), (3, 9), (9, 10)],\n",
       " [(13, 3), (2, 13), (3, 11), (3, 14)],\n",
       " [(1, 13), (7, 7), (5, 4), (14, 3)],\n",
       " [(2, 9), (14, 10), (1, 12), (13, 11)],\n",
       " [(3, 2), (3, 3), (9, 11), (1, 4)],\n",
       " [(2, 10), (12, 8), (2, 2), (6, 15)],\n",
       " [(2, 1), (11, 10), (4, 13), (9, 7)],\n",
       " [(4, 7), (6, 1), (7, 2), (14, 6)],\n",
       " [(7, 0), (0, 12), (12, 14), (6, 0)],\n",
       " [(2, 8), (13, 6), (5, 11), (11, 13)],\n",
       " [(7, 15), (9, 13), (0, 3), (12, 6)],\n",
       " [(2, 0), (13, 4), (13, 10), (1, 2)],\n",
       " [(14, 11), (5, 8), (8, 5), (2, 7)],\n",
       " [(12, 2), (15, 6), (1, 7), (12, 5)],\n",
       " [(7, 3), (11, 4), (14, 12), (8, 15)],\n",
       " [(14, 13), (12, 12), (0, 1), (0, 8)],\n",
       " [(9, 14), (14, 14), (15, 2), (9, 9)],\n",
       " [(6, 10), (2, 14), (7, 13), (10, 10)],\n",
       " [(10, 12), (10, 14), (7, 5), (8, 0)],\n",
       " [(0, 2), (13, 15), (5, 15), (1, 15)],\n",
       " [(3, 5), (10, 6), (11, 11), (15, 15)],\n",
       " [(13, 14), (12, 10), (7, 1), (1, 10)],\n",
       " [(1, 9), (13, 8), (2, 4), (11, 6)],\n",
       " [(6, 11), (15, 3), (1, 14), (15, 4)],\n",
       " [(8, 2), (2, 12), (7, 8), (5, 1)],\n",
       " [(6, 2), (4, 0), (11, 3), (8, 12)],\n",
       " [(6, 12), (10, 13), (15, 11), (12, 13)],\n",
       " [(1, 1), (13, 2), (3, 4), (1, 6)],\n",
       " [(12, 0), (3, 0), (9, 12), (8, 3)],\n",
       " [(0, 15), (6, 7), (15, 7), (5, 14)],\n",
       " [(5, 0), (6, 6), (4, 6), (8, 1)],\n",
       " [(2, 6), (4, 10), (4, 12), (1, 5)],\n",
       " [(11, 14), (9, 3), (9, 1), (7, 4)],\n",
       " [(4, 1), (14, 8), (12, 15), (12, 9)],\n",
       " [(13, 7), (2, 5), (11, 5), (10, 0)],\n",
       " [(10, 11), (12, 4), (4, 14), (10, 15)],\n",
       " [(6, 3), (15, 9), (11, 12), (0, 9)],\n",
       " [(4, 5), (5, 10), (0, 5), (9, 0)],\n",
       " [(10, 8), (13, 1), (3, 10), (6, 14)],\n",
       " [(12, 11), (1, 11), (13, 13), (12, 3)],\n",
       " [(10, 2), (3, 1), (3, 15), (14, 9)],\n",
       " [(4, 8), (10, 9), (4, 11), (3, 6)],\n",
       " [(6, 9), (0, 11), (11, 9), (0, 7)],\n",
       " [(5, 13), (6, 5), (9, 2), (9, 6)],\n",
       " [(0, 10), (11, 0), (8, 11), (15, 13)],\n",
       " [(11, 8), (9, 8), (7, 6), (15, 5)],\n",
       " [(2, 15), (5, 9), (8, 7), (4, 15)],\n",
       " [(3, 7), (9, 15), (7, 12), (5, 5)],\n",
       " [(4, 2), (12, 7), (8, 14), (7, 10)],\n",
       " [(0, 6), (3, 8), (15, 1), (10, 3)]]"
      ]
     },
     "execution_count": 8,
     "metadata": {},
     "output_type": "execute_result"
    }
   ],
   "source": [
    "test = WiSARD(16, 16, 4)\n",
    "test.random_map()\n",
    "test.mapping"
   ]
  }
 ],
 "metadata": {
  "kernelspec": {
   "display_name": "Python [conda env:PDSH]",
   "language": "python",
   "name": "conda-env-PDSH-py"
  },
  "language_info": {
   "codemirror_mode": {
    "name": "ipython",
    "version": 3
   },
   "file_extension": ".py",
   "mimetype": "text/x-python",
   "name": "python",
   "nbconvert_exporter": "python",
   "pygments_lexer": "ipython3",
   "version": "3.5.4"
  }
 },
 "nbformat": 4,
 "nbformat_minor": 1
}
