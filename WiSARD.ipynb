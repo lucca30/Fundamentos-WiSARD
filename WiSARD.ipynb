{
 "cells": [
  {
   "cell_type": "markdown",
   "metadata": {},
   "source": [
    "# Fundamentos da WiSARD\n",
    "\n",
    "Projeto de graduação para a disciplina de Redes Neurais sem Peso."
   ]
  },
  {
   "cell_type": "markdown",
   "metadata": {},
   "source": [
    "## Conceitos Básicos\n",
    "\n",
    "- Retina : é o nosso material de input, que é uma matriz, de valores binários. Podemos entender a retina como uma imagem, onde cada pixel pode ser preto ou branco.\n",
    "\n",
    "- Tupla  : um array de tamanho fixo que em cada uma de suas posições possuíra o mesmo valor que um dos pixels da retina. \n",
    "\n",
    "- Mapeamento : a retina será partida em M tuplas, onde cada tupla possuirá N pixels representados. Chamamos de mapeamento a associação de um pixel da retina com uma posição em uma das tuplas. Em geral, a WiSARD realiza o mapeamento de forma pseudo-aleatória.\n",
    "\n",
    "- RAM : cada tupla endereçará 2^N posições. O conjunto dessas posições representa a RAM daquela tupla\n",
    "\n",
    "- Treinamento : treinar a rede significa receber uma retina, encaminhar o valor dos pixels para suas respectivas tuplas e então, pegar cada uma das tuplas com seus valores binários setados, e setar a respectiva posição na RAM. Por exemplo, imagine uma tupla de valor [1, 1, 0], logo, setaremos a posição 6 na RAM.\n",
    "\n",
    "- Discriminador : é um conjunto de RAMs treinadas que visa ser capaz de pontuar a semelhança de uma retina com o seu padrão."
   ]
  },
  {
   "cell_type": "code",
   "execution_count": 55,
   "metadata": {},
   "outputs": [],
   "source": [
    "import random\n",
    "\n",
    "def convert_toBinary(x):\n",
    "    temp = 1\n",
    "    sum_ = 0\n",
    "    for i in x:\n",
    "        sum_ += i*temp\n",
    "        temp *= 2\n",
    "    return sum_\n",
    "    \n",
    "class WiSARD:\n",
    "    # Mapping associa uma posição da matriz de tuplas com o pixel que ele representa\n",
    "    \n",
    "    def __init__(self, retina_x, retina_y, tuple_size):\n",
    "        self.retina_x = retina_x\n",
    "        self.retina_y = retina_y\n",
    "        self.tuple_size = tuple_size\n",
    "        if( (retina_x*retina_y)%tuple_size !=0 ):\n",
    "            print(\"Invalid tuple size\")\n",
    "        self.M = (retina_x*retina_y)//tuple_size\n",
    "        self.tuples = []\n",
    "        self.mapping = []\n",
    "        self.discriminators = {}\n",
    "        self.max_bleaching = 0\n",
    "\n",
    "    def random_mapping(self):\n",
    "        self.mapping = []\n",
    "        temp = []\n",
    "        for i in range(0, self.retina_x):\n",
    "            for j in range(0, self.retina_y):\n",
    "                temp.append((i, j))\n",
    "                \n",
    "        for i in range(0, self.M):\n",
    "            temp_array = []\n",
    "            for j in range(0, self.tuple_size):\n",
    "                element = random.choice(temp)\n",
    "                temp.remove(element)\n",
    "                temp_array.append(element)\n",
    "            self.mapping.append(temp_array)\n",
    "    \n",
    "    def set_mapping(self, mapping):\n",
    "        self.mapping = mapping\n",
    "        \n",
    "    def fit_class(self, name_class,retinas):\n",
    "        tuple_ = [[0 for x in range(self.tuple_size)] for y in range(self.M)] \n",
    "        if(name_class not in self.discriminators):\n",
    "            self.discriminators[name_class] = {}\n",
    "            for i in range(0, len(tuple_)):\n",
    "                self.discriminators[name_class][i] = {}\n",
    "            \n",
    "        for retina in retinas:\n",
    "            for i in range(0, len(tuple_)):\n",
    "                for j in range(0, len(tuple_[i])):\n",
    "                    pixel = self.mapping[i][j]\n",
    "                    tuple_[i][j] = retina[pixel[0]][pixel[1]]\n",
    "                \n",
    "                pos_ram = convert_toBinary(tuple_[i])\n",
    "                \n",
    "                if(pos_ram not in self.discriminators[name_class][i]):\n",
    "                    self.discriminators[name_class][i][pos_ram] = 0\n",
    "                \n",
    "                self.discriminators[name_class][i][pos_ram] += 1\n",
    "                self.max_bleaching = max(self.max_bleaching, self.discriminators[name_class][i][pos_ram])\n",
    "                \n",
    "    # necessário pelo menos duas classes para que possa classificar\n",
    "    def classify(self, retina):\n",
    "        tuple_ = [[0 for x in range(self.tuple_size)] for y in range(self.M)] \n",
    "\n",
    "        for bleaching in range(1, self.max_bleaching+1):\n",
    "            results = []\n",
    "            for classes in self.discriminators:\n",
    "                R = 0\n",
    "                for i in range(0, len(tuple_)):\n",
    "                    for j in range(0, len(tuple_[i])):\n",
    "                        pixel = self.mapping[i][j]\n",
    "                        tuple_[i][j] = retina[pixel[0]][pixel[1]]\n",
    "\n",
    "                    pos_ram = convert_toBinary(tuple_[i])\n",
    "\n",
    "                    if( (pos_ram in self.discriminators[classes][i]) and (self.discriminators[classes][i][pos_ram] >= bleaching) ):\n",
    "                        R+=1\n",
    "                results.append((R, classes))\n",
    "            results.sort()\n",
    "            if( (results[-1][0] > results[-2][0]) or (bleaching == self.max_bleaching) ):\n",
    "                return results[-1][1]"
   ]
  },
  {
   "cell_type": "code",
   "execution_count": 56,
   "metadata": {},
   "outputs": [
    {
     "data": {
      "text/plain": [
       "[[(0, 0), (1, 2)],\n",
       " [(3, 2), (0, 1)],\n",
       " [(2, 0), (1, 3)],\n",
       " [(1, 1), (3, 1)],\n",
       " [(0, 2), (3, 3)],\n",
       " [(2, 1), (2, 3)],\n",
       " [(1, 0), (2, 2)],\n",
       " [(3, 0), (0, 3)]]"
      ]
     },
     "execution_count": 56,
     "metadata": {},
     "output_type": "execute_result"
    }
   ],
   "source": [
    "test = WiSARD(4, 4, 2)\n",
    "test.random_mapping()\n",
    "test.mapping"
   ]
  },
  {
   "cell_type": "code",
   "execution_count": 57,
   "metadata": {},
   "outputs": [],
   "source": [
    "retinas = [\n",
    "    [[0, 0, 0, 1],\n",
    "     [0, 0, 0, 1],\n",
    "     [0, 0, 0, 1],\n",
    "     [0, 0, 0, 1]],\n",
    "\n",
    "    [[0, 0, 0, 1],\n",
    "     [0, 0, 0, 1],\n",
    "     [0, 0, 0, 1],\n",
    "     [0, 0, 0, 1]],\n",
    "\n",
    "    [[0, 0, 0, 1],\n",
    "     [0, 0, 0, 1],\n",
    "     [0, 0, 0, 1],\n",
    "     [0, 0, 0, 1]]\n",
    "\n",
    "]\n",
    "\n",
    "test.fit_class(\"i\", retinas)\n",
    "\n",
    "retinas = [\n",
    "    [[0, 1, 0, 1],\n",
    "     [0, 1, 1, 1],\n",
    "     [0, 1, 0, 1],\n",
    "     [0, 1, 0, 1]],\n",
    "\n",
    "    [[1, 0, 1, 0],\n",
    "     [1, 0, 1, 0],\n",
    "     [1, 1, 1, 0],\n",
    "     [1, 0, 1, 0]],\n",
    "\n",
    "    [[1, 0, 1, 0],\n",
    "     [1, 1, 1, 0],\n",
    "     [1, 0, 1, 0],\n",
    "     [1, 0, 1, 0]]\n",
    "\n",
    "]\n",
    "\n",
    "test.fit_class(\"H\", retinas)\n",
    "\n"
   ]
  },
  {
   "cell_type": "code",
   "execution_count": 62,
   "metadata": {},
   "outputs": [
    {
     "data": {
      "text/plain": [
       "'i'"
      ]
     },
     "execution_count": 62,
     "metadata": {},
     "output_type": "execute_result"
    }
   ],
   "source": [
    "test.classify(\n",
    "   [[1, 0, 1, 0],\n",
    "    [1, 1, 1, 0],\n",
    "    [1, 1, 1, 0],\n",
    "    [1, 0, 1, 0]]\n",
    ")\n"
   ]
  }
 ],
 "metadata": {
  "kernelspec": {
   "display_name": "Python [conda env:PDSH]",
   "language": "python",
   "name": "conda-env-PDSH-py"
  },
  "language_info": {
   "codemirror_mode": {
    "name": "ipython",
    "version": 3
   },
   "file_extension": ".py",
   "mimetype": "text/x-python",
   "name": "python",
   "nbconvert_exporter": "python",
   "pygments_lexer": "ipython3",
   "version": "3.5.4"
  }
 },
 "nbformat": 4,
 "nbformat_minor": 1
}
