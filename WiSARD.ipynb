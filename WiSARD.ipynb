{
 "cells": [
  {
   "cell_type": "markdown",
   "metadata": {},
   "source": [
    "# Fundamentos da WiSARD\n",
    "\n",
    "Projeto de graduação para a disciplina de Redes Neurais sem Peso."
   ]
  },
  {
   "cell_type": "markdown",
   "metadata": {},
   "source": [
    "## Conceitos Básicos\n",
    "\n",
    "- Retina : é o nosso material de input, que é uma matriz, de valores binários. Podemos entender a retina como uma imagem, onde cada pixel pode ser preto ou branco.\n",
    "\n",
    "- Tupla  : um array de tamanho fixo que em cada uma de suas posições possuíra o mesmo valor que um dos pixels da retina. \n",
    "\n",
    "- Mapeamento : a retina será partida em M tuplas, onde cada tupla possuirá N pixels representados. Chamamos de mapeamento a associação de um pixel da retina com uma posição em uma das tuplas. Em geral, a WiSARD realiza o mapeamento de forma pseudo-aleatória.\n",
    "\n",
    "- RAM : cada tupla endereçará 2^N posições. O conjunto dessas posições representa a RAM daquela tupla\n",
    "\n",
    "- Treinamento : treinar a rede significa receber uma retina, encaminhar o valor dos pixels para suas respectivas tuplas e então, pegar cada uma das tuplas com seus valores binários setados, e setar a respectiva posição na RAM. Por exemplo, imagine uma tupla de valor [1, 1, 0], logo, setaremos a posição 6 na RAM.\n",
    "\n",
    "- Discriminador : é um conjunto de RAMs treinadas que visa ser capaz de pontuar a semelhança de uma retina com o seu padrão."
   ]
  },
  {
   "cell_type": "code",
   "execution_count": 1,
   "metadata": {
    "collapsed": true
   },
   "outputs": [],
   "source": [
    "import WiSARD as Wi"
   ]
  },
  {
   "cell_type": "code",
   "execution_count": null,
   "metadata": {},
   "outputs": [],
   "source": [
    "test = Wi.WiSARD(4, 4, 2)\n",
    "test.random_mapping()\n",
    "test.mapping"
   ]
  },
  {
   "cell_type": "code",
   "execution_count": null,
   "metadata": {
    "collapsed": true
   },
   "outputs": [],
   "source": [
    "retinas = [\n",
    "    [[0, 0, 0, 1],\n",
    "     [0, 0, 0, 1],\n",
    "     [0, 0, 0, 1],\n",
    "     [0, 0, 0, 1]],\n",
    "\n",
    "    [[0, 0, 0, 1],\n",
    "     [0, 0, 0, 1],\n",
    "     [0, 0, 0, 1],\n",
    "     [0, 0, 0, 1]],\n",
    "\n",
    "    [[0, 0, 0, 1],\n",
    "     [0, 0, 0, 1],\n",
    "     [0, 0, 0, 1],\n",
    "     [0, 0, 0, 1]]\n",
    "\n",
    "]\n",
    "\n",
    "test.fit_class(\"i\", retinas)\n",
    "\n",
    "retinas = [\n",
    "    [[0, 1, 0, 1],\n",
    "     [0, 1, 1, 1],\n",
    "     [0, 1, 0, 1],\n",
    "     [0, 1, 0, 1]],\n",
    "\n",
    "    [[1, 0, 1, 0],\n",
    "     [1, 0, 1, 0],\n",
    "     [1, 1, 1, 0],\n",
    "     [1, 0, 1, 0]],\n",
    "\n",
    "    [[1, 0, 1, 0],\n",
    "     [1, 1, 1, 0],\n",
    "     [1, 0, 1, 0],\n",
    "     [1, 0, 1, 0]]\n",
    "\n",
    "]\n",
    "\n",
    "test.fit_class(\"H\", retinas)\n",
    "\n"
   ]
  },
  {
   "cell_type": "code",
   "execution_count": null,
   "metadata": {},
   "outputs": [],
   "source": [
    "test.classify(\n",
    "   [[0, 0, 0, 1],\n",
    "    [0, 0, 0, 1],\n",
    "    [0, 0, 0, 1],\n",
    "    [0, 0, 0, 1]]\n",
    ")\n"
   ]
  },
  {
   "cell_type": "code",
   "execution_count": 2,
   "metadata": {},
   "outputs": [
    {
     "name": "stderr",
     "output_type": "stream",
     "text": [
      "Using TensorFlow backend.\n"
     ]
    }
   ],
   "source": [
    "import keras\n",
    "from keras.datasets import mnist\n",
    "(x_train, y_train), (x_test, y_test) = mnist.load_data()"
   ]
  },
  {
   "cell_type": "code",
   "execution_count": 3,
   "metadata": {},
   "outputs": [
    {
     "data": {
      "image/png": "[encoded data removed]",
      "text/plain": [
       "<matplotlib.figure.Figure at 0x7f23686364e0>"
      ]
     },
     "metadata": {},
     "output_type": "display_data"
    }
   ],
   "source": [
    "import numpy as np\n",
    "import matplotlib.pyplot as plt\n",
    "\n",
    "pixels = x_train[0]\n",
    "pixels = np.array(pixels, dtype='uint8')\n",
    "pixels = pixels.reshape((28, 28))\n",
    "# Plot\n",
    "plt.title('Label is {label}'.format(label=y_train[0]))\n",
    "plt.imshow(pixels, cmap='gray')\n",
    "plt.show()"
   ]
  },
  {
   "cell_type": "code",
   "execution_count": 4,
   "metadata": {},
   "outputs": [
    {
     "name": "stdout",
     "output_type": "stream",
     "text": [
      "10000\n"
     ]
    }
   ],
   "source": [
    "import utilities\n",
    "\n",
    "#mnist_wisard = Wi.WiSARD(28, 28, 28)\n",
    "#mnist_wisard.random_mapping()\n",
    "train_set = []\n",
    "for i in range(len(y_train)):\n",
    "    train_set.append((y_train[i],x_train[i]))\n",
    "\n",
    "test_set = []\n",
    "for i in range(len(y_test)):\n",
    "    test_set.append((y_test[i],x_test[i]))\n",
    "\n",
    "#k = 40\n",
    "#for i in range(0, 1000): \n",
    "#    mnist_wisard.fit_class( y_train[i], [utilities.filter_image(x_train[i], k)] )"
   ]
  },
  {
   "cell_type": "code",
   "execution_count": 6,
   "metadata": {},
   "outputs": [
    {
     "data": {
      "text/plain": [
       "0.8588"
      ]
     },
     "execution_count": 6,
     "metadata": {},
     "output_type": "execute_result"
    }
   ],
   "source": [
    "#print(\"Resultado obtido: \" , mnist_wisard.classify(utilities.filter_image(x_test[411], k)))\n",
    "#print(\"Resultado esperado: \", y_test[411])\n",
    "utilities.eval(Wi.WiSARD(28, 28, 28),train_set, 1000, test_set, 40, 1 )"
   ]
  }
 ],
 "metadata": {
  "anaconda-cloud": {},
  "kernelspec": {
   "display_name": "Python [conda env:PDSH]",
   "language": "python",
   "name": "conda-env-PDSH-py"
  },
  "language_info": {
   "codemirror_mode": {
    "name": "ipython",
    "version": 3
   },
   "file_extension": ".py",
   "mimetype": "text/x-python",
   "name": "python",
   "nbconvert_exporter": "python",
   "pygments_lexer": "ipython3",
   "version": "3.5.4"
  }
 },
 "nbformat": 4,
 "nbformat_minor": 1
}
