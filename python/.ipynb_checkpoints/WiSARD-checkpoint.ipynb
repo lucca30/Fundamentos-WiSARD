{
 "cells": [
  {
   "cell_type": "markdown",
   "metadata": {},
   "source": [
    "# Fundamentos da WiSARD\n",
    "\n",
    "Projeto de graduação para a disciplina de Redes Neurais sem Peso."
   ]
  },
  {
   "cell_type": "markdown",
   "metadata": {},
   "source": [
    "## Conceitos Básicos\n",
    "\n",
    "- Retina : é o nosso material de input, que é uma matriz, de valores binários. Podemos entender a retina como uma imagem, onde cada pixel pode ser preto ou branco.\n",
    "\n",
    "- Tupla  : um array de tamanho fixo que em cada uma de suas posições possuíra o mesmo valor que um dos pixels da retina. \n",
    "\n",
    "- Mapeamento : a retina será partida em M tuplas, onde cada tupla possuirá N pixels representados. Chamamos de mapeamento a associação de um pixel da retina com uma posição em uma das tuplas. Em geral, a WiSARD realiza o mapeamento de forma pseudo-aleatória.\n",
    "\n",
    "- RAM : cada tupla endereçará 2^N posições. O conjunto dessas posições representa a RAM daquela tupla\n",
    "\n",
    "- Treinamento : treinar a rede significa receber uma retina, encaminhar o valor dos pixels para suas respectivas tuplas e então, pegar cada uma das tuplas com seus valores binários setados, e setar a respectiva posição na RAM. Por exemplo, imagine uma tupla de valor [1, 1, 0], logo, setaremos a posição 6 na RAM.\n",
    "\n",
    "- Discriminador : é um conjunto de RAMs treinadas que visa ser capaz de pontuar a semelhança de uma retina com o seu padrão."
   ]
  },
  {
   "cell_type": "code",
   "execution_count": 1,
   "metadata": {
    "collapsed": true
   },
   "outputs": [],
   "source": [
    "import WiSARD as Wi"
   ]
  },
  {
   "cell_type": "code",
   "execution_count": 2,
   "metadata": {},
   "outputs": [
    {
     "data": {
      "text/plain": [
       "[[(0, 2), (1, 2)],\n",
       " [(0, 0), (0, 3)],\n",
       " [(3, 2), (1, 3)],\n",
       " [(2, 1), (1, 1)],\n",
       " [(3, 3), (1, 0)],\n",
       " [(2, 2), (2, 3)],\n",
       " [(3, 1), (0, 1)],\n",
       " [(3, 0), (2, 0)]]"
      ]
     },
     "execution_count": 2,
     "metadata": {},
     "output_type": "execute_result"
    }
   ],
   "source": [
    "test = Wi.WiSARD(4, 4, 2)\n",
    "test.random_mapping()\n",
    "test.mapping"
   ]
  },
  {
   "cell_type": "code",
   "execution_count": 3,
   "metadata": {
    "collapsed": true
   },
   "outputs": [],
   "source": [
    "x_train = [\n",
    "    [[0, 0, 0, 1],\n",
    "     [0, 0, 0, 1],\n",
    "     [0, 0, 0, 1],\n",
    "     [0, 0, 0, 1]],\n",
    "\n",
    "    [[0, 0, 0, 1],\n",
    "     [0, 0, 0, 1],\n",
    "     [0, 0, 0, 1],\n",
    "     [0, 0, 0, 1]],\n",
    "\n",
    "    [[0, 0, 0, 1],\n",
    "     [0, 0, 0, 1],\n",
    "     [0, 0, 0, 1],\n",
    "     [0, 0, 0, 1]],\n",
    "\n",
    "    [[0, 0, 1, 1],\n",
    "     [0, 0, 0, 1],\n",
    "     [0, 0, 0, 1],\n",
    "     [0, 0, 0, 1]],\n",
    "\n",
    "    [[0, 0, 0, 1],\n",
    "     [0, 0, 0, 1],\n",
    "     [0, 0, 0, 1],\n",
    "     [0, 0, 1, 1]],\n",
    "\n",
    "    [[0, 1, 0, 1],\n",
    "     [0, 1, 1, 1],\n",
    "     [0, 1, 1, 1],\n",
    "     [0, 1, 0, 1]],\n",
    "\n",
    "    [[1, 0, 1, 0],\n",
    "     [1, 1, 1, 0],\n",
    "     [1, 0, 1, 0],\n",
    "     [1, 0, 1, 0]],\n",
    "\n",
    "    [[0, 1, 0, 1],\n",
    "     [0, 1, 1, 1],\n",
    "     [0, 1, 0, 1],\n",
    "     [0, 1, 0, 1]],\n",
    "\n",
    "    [[0, 1, 0, 1],\n",
    "     [0, 1, 0, 1],\n",
    "     [0, 1, 1, 1],\n",
    "     [0, 1, 0, 1]],\n",
    "\n",
    "    [[1, 0, 1, 0],\n",
    "     [1, 1, 1, 0],\n",
    "     [1, 0, 1, 0],\n",
    "     [1, 0, 1, 0]],\n",
    "\n",
    "]\n",
    "\n",
    "y_train = ['i','i','i','i','i','H','H','H','H','H']\n",
    "\n",
    "\n",
    "test.fit_class(y_train, x_train)\n",
    "\n"
   ]
  },
  {
   "cell_type": "code",
   "execution_count": 4,
   "metadata": {},
   "outputs": [
    {
     "data": {
      "text/plain": [
       "['i']"
      ]
     },
     "execution_count": 4,
     "metadata": {},
     "output_type": "execute_result"
    }
   ],
   "source": [
    "test.classify(\n",
    "   [[[0, 0, 0, 1],\n",
    "    [0, 0, 1, 1],\n",
    "    [0, 0, 0, 1],\n",
    "    [0, 0, 0, 1]]]\n",
    ")\n"
   ]
  },
  {
   "cell_type": "code",
   "execution_count": 2,
   "metadata": {},
   "outputs": [
    {
     "name": "stdout",
     "output_type": "stream",
     "text": [
      "[[  0   0   0   0   0   0   0   0   0   0   0   0   0   0   0   0   0   0\n",
      "    0   0   0   0   0   0   0   0   0   0]\n",
      " [  0   0   0   0   0   0   0   0   0   0   0   0   0   0   0   0   0   0\n",
      "    0   0   0   0   0   0   0   0   0   0]\n",
      " [  0   0   0   0   0   0   0   0   0   0   0   0   0   0   0   0   0   0\n",
      "    0   0   0   0   0   0   0   0   0   0]\n",
      " [  0   0   0   0   0   0   0   0   0   0   0   0   0   0   0   0   0   0\n",
      "    0   0   0   0   0   0   0   0   0   0]\n",
      " [  0   0   0   0   0   0   0   0   0   0   0   0   0   0   0  51 159 253\n",
      "  159  50   0   0   0   0   0   0   0   0]\n",
      " [  0   0   0   0   0   0   0   0   0   0   0   0   0   0  48 238 252 252\n",
      "  252 237   0   0   0   0   0   0   0   0]\n",
      " [  0   0   0   0   0   0   0   0   0   0   0   0   0  54 227 253 252 239\n",
      "  233 252  57   6   0   0   0   0   0   0]\n",
      " [  0   0   0   0   0   0   0   0   0   0   0  10  60 224 252 253 252 202\n",
      "   84 252 253 122   0   0   0   0   0   0]\n",
      " [  0   0   0   0   0   0   0   0   0   0   0 163 252 252 252 253 252 252\n",
      "   96 189 253 167   0   0   0   0   0   0]\n",
      " [  0   0   0   0   0   0   0   0   0   0  51 238 253 253 190 114 253 228\n",
      "   47  79 255 168   0   0   0   0   0   0]\n",
      " [  0   0   0   0   0   0   0   0   0  48 238 252 252 179  12  75 121  21\n",
      "    0   0 253 243  50   0   0   0   0   0]\n",
      " [  0   0   0   0   0   0   0   0  38 165 253 233 208  84   0   0   0   0\n",
      "    0   0 253 252 165   0   0   0   0   0]\n",
      " [  0   0   0   0   0   0   0   7 178 252 240  71  19  28   0   0   0   0\n",
      "    0   0 253 252 195   0   0   0   0   0]\n",
      " [  0   0   0   0   0   0   0  57 252 252  63   0   0   0   0   0   0   0\n",
      "    0   0 253 252 195   0   0   0   0   0]\n",
      " [  0   0   0   0   0   0   0 198 253 190   0   0   0   0   0   0   0   0\n",
      "    0   0 255 253 196   0   0   0   0   0]\n",
      " [  0   0   0   0   0   0  76 246 252 112   0   0   0   0   0   0   0   0\n",
      "    0   0 253 252 148   0   0   0   0   0]\n",
      " [  0   0   0   0   0   0  85 252 230  25   0   0   0   0   0   0   0   0\n",
      "    7 135 253 186  12   0   0   0   0   0]\n",
      " [  0   0   0   0   0   0  85 252 223   0   0   0   0   0   0   0   0   7\n",
      "  131 252 225  71   0   0   0   0   0   0]\n",
      " [  0   0   0   0   0   0  85 252 145   0   0   0   0   0   0   0  48 165\n",
      "  252 173   0   0   0   0   0   0   0   0]\n",
      " [  0   0   0   0   0   0  86 253 225   0   0   0   0   0   0 114 238 253\n",
      "  162   0   0   0   0   0   0   0   0   0]\n",
      " [  0   0   0   0   0   0  85 252 249 146  48  29  85 178 225 253 223 167\n",
      "   56   0   0   0   0   0   0   0   0   0]\n",
      " [  0   0   0   0   0   0  85 252 252 252 229 215 252 252 252 196 130   0\n",
      "    0   0   0   0   0   0   0   0   0   0]\n",
      " [  0   0   0   0   0   0  28 199 252 252 253 252 252 233 145   0   0   0\n",
      "    0   0   0   0   0   0   0   0   0   0]\n",
      " [  0   0   0   0   0   0   0  25 128 252 253 252 141  37   0   0   0   0\n",
      "    0   0   0   0   0   0   0   0   0   0]\n",
      " [  0   0   0   0   0   0   0   0   0   0   0   0   0   0   0   0   0   0\n",
      "    0   0   0   0   0   0   0   0   0   0]\n",
      " [  0   0   0   0   0   0   0   0   0   0   0   0   0   0   0   0   0   0\n",
      "    0   0   0   0   0   0   0   0   0   0]\n",
      " [  0   0   0   0   0   0   0   0   0   0   0   0   0   0   0   0   0   0\n",
      "    0   0   0   0   0   0   0   0   0   0]\n",
      " [  0   0   0   0   0   0   0   0   0   0   0   0   0   0   0   0   0   0\n",
      "    0   0   0   0   0   0   0   0   0   0]]\n"
     ]
    }
   ],
   "source": [
    "import keras\n",
    "from keras.datasets import mnist\n",
    "(x_train, y_train), (x_test, y_test) = mnist.load_data()\n",
    "\n"
   ]
  },
  {
   "cell_type": "code",
   "execution_count": null,
   "metadata": {
    "collapsed": true
   },
   "outputs": [],
   "source": [
    "#train_images = open('../data/mnist/train_images.txt', 'w')\n",
    "#train_labels = open('../data/mnist/train_labels.txt', 'w' )\n",
    "#test_images = open('../data/mnist/test_images.txt', 'w')\n",
    "#test_labels = open('../data/mnist/test_labels.txt', 'w')\n",
    "\n",
    "str_ = []\n",
    "for i in range(len(x_train)):\n",
    "    str_.append(\"\")\n",
    "    for j in range(28):\n",
    "        for k in range(28):\n",
    "            str_[i] += str(x_train[i][j][k]) + \" \"\n",
    "train_images.writelines(str_)\n",
    "train_images.close()"
   ]
  },
  {
   "cell_type": "code",
   "execution_count": 6,
   "metadata": {},
   "outputs": [
    {
     "name": "stdout",
     "output_type": "stream",
     "text": [
      "train_set: 60000\n",
      "test_set: 10000\n",
      "In train the images are distributed in this proportion: \n",
      "[5923, 6742, 5958, 6131, 5842, 5421, 5918, 6265, 5851, 5949]\n"
     ]
    }
   ],
   "source": [
    "print(\"train_set: \" + str(len(x_train)))\n",
    "print(\"test_set: \" + str(len(x_test)))\n",
    "\n",
    "print(\"In train the images are distributed in this proportion: \")\n",
    "count = [0 for x in range(10)]\n",
    "for i in y_train:\n",
    "    count[i]+=1\n",
    "    \n",
    "print(count)"
   ]
  },
  {
   "cell_type": "code",
   "execution_count": 7,
   "metadata": {},
   "outputs": [
    {
     "data": {
      "image/png": "[encoded data removed]",
      "text/plain": [
       "<matplotlib.figure.Figure at 0x7fae635d0470>"
      ]
     },
     "metadata": {},
     "output_type": "display_data"
    }
   ],
   "source": [
    "import numpy as np\n",
    "import matplotlib.pyplot as plt\n",
    "\n",
    "pixels = x_train[0]\n",
    "pixels = np.array(pixels, dtype='uint8')\n",
    "pixels = pixels.reshape((28, 28))\n",
    "# Plot\n",
    "plt.title('Label is {label}'.format(label=y_train[0]))\n",
    "plt.imshow(pixels, cmap='gray')\n",
    "plt.show()"
   ]
  },
  {
   "cell_type": "code",
   "execution_count": 8,
   "metadata": {
    "collapsed": true
   },
   "outputs": [],
   "source": [
    "import utilities\n",
    "\n",
    "n_trains = 5000 #of each label\n",
    "n_tests = 10000\n",
    "k=125\n",
    "x_train_filtered = []\n",
    "y_train_filtered = []\n",
    "count = [0 for x in range(10)]\n",
    "cnt = 0\n",
    "for i in range(len(y_train)):\n",
    "    if(count[y_train[i]]<n_trains):\n",
    "        cnt+=1\n",
    "        count[y_train[i]]+=1\n",
    "        x_train_filtered.append(utilities.filter_image(x_train[i], k  ) )\n",
    "        y_train_filtered.append(y_train[i])\n",
    "    if(cnt==(n_trains*10)):\n",
    "        break\n",
    "for i in range(n_tests):\n",
    "    x_test[i] = utilities.filter_image(x_test[i], k)"
   ]
  },
  {
   "cell_type": "code",
   "execution_count": 9,
   "metadata": {},
   "outputs": [
    {
     "data": {
      "image/png": "[encoded data removed]",
      "text/plain": [
       "<matplotlib.figure.Figure at 0x7fae5ab112b0>"
      ]
     },
     "metadata": {},
     "output_type": "display_data"
    }
   ],
   "source": [
    "plt.title('Label is {label}'.format(label=y_test[99]))\n",
    "plt.imshow(x_test[99] ,cmap='gray')\n",
    "plt.show()"
   ]
  },
  {
   "cell_type": "code",
   "execution_count": 10,
   "metadata": {},
   "outputs": [
    {
     "name": "stdout",
     "output_type": "stream",
     "text": [
      "Starting Training...\n",
      "Duration : 31.21288752555847\n",
      "Average of each image trained:  0.0006242599964141846\n",
      "Starting Clasify...\n",
      "Duration : 285.56101989746094\n",
      "Average of each image classified:  0.02855611319541931\n",
      "best case: 0.9252\n"
     ]
    },
    {
     "data": {
      "text/plain": [
       "0.9252"
      ]
     },
     "execution_count": 10,
     "metadata": {},
     "output_type": "execute_result"
    }
   ],
   "source": [
    "utilities.eval(Wi.WiSARD(28, 28, 28),x_train_filtered ,y_train_filtered, x_test[:n_tests],y_test[:n_tests], 1 ) "
   ]
  }
 ],
 "metadata": {
  "anaconda-cloud": {},
  "kernelspec": {
   "display_name": "Python [conda env:PDSH]",
   "language": "python",
   "name": "conda-env-PDSH-py"
  },
  "language_info": {
   "codemirror_mode": {
    "name": "ipython",
    "version": 3
   },
   "file_extension": ".py",
   "mimetype": "text/x-python",
   "name": "python",
   "nbconvert_exporter": "python",
   "pygments_lexer": "ipython3",
   "version": "3.5.4"
  }
 },
 "nbformat": 4,
 "nbformat_minor": 1
}
